{
 "cells": [
  {
   "cell_type": "code",
   "execution_count": 1,
   "metadata": {},
   "outputs": [],
   "source": [
    "import pandas as pd\n",
    "import datetime\n",
    "import math\n",
    "import numpy as np\n",
    "import matplotlib.pyplot as plt\n",
    "%matplotlib inline\n",
    "import seaborn as sns\n",
    "from sklearn.preprocessing import StandardScaler\n",
    "from sklearn.cluster import KMeans\n",
    "from itertools import repeat\n",
    "import pickle"
   ]
  },
  {
   "cell_type": "code",
   "execution_count": 2,
   "metadata": {},
   "outputs": [
    {
     "name": "stdout",
     "output_type": "stream",
     "text": [
      "  InvoiceNo StockCode                          Description  Quantity  \\\n",
      "0    536365    85123A   WHITE HANGING HEART T-LIGHT HOLDER         6   \n",
      "1    536365     71053                  WHITE METAL LANTERN         6   \n",
      "2    536365    84406B       CREAM CUPID HEARTS COAT HANGER         8   \n",
      "3    536365    84029G  KNITTED UNION FLAG HOT WATER BOTTLE         6   \n",
      "4    536365    84029E       RED WOOLLY HOTTIE WHITE HEART.         6   \n",
      "\n",
      "          InvoiceDate  UnitPrice  CustomerID         Country  \n",
      "0 2010-12-01 08:26:00       2.55     17850.0  United Kingdom  \n",
      "1 2010-12-01 08:26:00       3.39     17850.0  United Kingdom  \n",
      "2 2010-12-01 08:26:00       2.75     17850.0  United Kingdom  \n",
      "3 2010-12-01 08:26:00       3.39     17850.0  United Kingdom  \n",
      "4 2010-12-01 08:26:00       3.39     17850.0  United Kingdom  \n"
     ]
    }
   ],
   "source": [
    "df = pd.read_excel('/home/srishti/Downloads/Online Retail.xlsx')\n",
    "print(df.head())"
   ]
  },
  {
   "cell_type": "code",
   "execution_count": 4,
   "metadata": {},
   "outputs": [
    {
     "name": "stdout",
     "output_type": "stream",
     "text": [
      "<class 'pandas.core.frame.DataFrame'>\n",
      "RangeIndex: 541909 entries, 0 to 541908\n",
      "Data columns (total 8 columns):\n",
      " #   Column       Non-Null Count   Dtype         \n",
      "---  ------       --------------   -----         \n",
      " 0   InvoiceNo    541909 non-null  object        \n",
      " 1   StockCode    541909 non-null  object        \n",
      " 2   Description  540455 non-null  object        \n",
      " 3   Quantity     541909 non-null  int64         \n",
      " 4   InvoiceDate  541909 non-null  datetime64[ns]\n",
      " 5   UnitPrice    541909 non-null  float64       \n",
      " 6   CustomerID   406829 non-null  float64       \n",
      " 7   Country      541909 non-null  object        \n",
      "dtypes: datetime64[ns](1), float64(2), int64(1), object(4)\n",
      "memory usage: 33.1+ MB\n",
      "None\n"
     ]
    }
   ],
   "source": [
    "print(df.info())"
   ]
  },
  {
   "cell_type": "code",
   "execution_count": 5,
   "metadata": {},
   "outputs": [
    {
     "name": "stdout",
     "output_type": "stream",
     "text": [
      "Index(['InvoiceNo', 'StockCode', 'Description', 'Quantity', 'InvoiceDate',\n",
      "       'UnitPrice', 'CustomerID', 'Country'],\n",
      "      dtype='object')\n"
     ]
    }
   ],
   "source": [
    "print(df.columns)"
   ]
  },
  {
   "cell_type": "code",
   "execution_count": 7,
   "metadata": {},
   "outputs": [],
   "source": [
    "# def rstr(df, pred=None): \n",
    "#     obs = df.shape[0]\n",
    "#     types = df.dtypes\n",
    "#     counts = df.apply(lambda x: x.count())\n",
    "#     uniques = df.apply(lambda x: [x.unique()])\n",
    "#     nulls = df.apply(lambda x: x.isnull().sum())\n",
    "#     distincts = df.apply(lambda x: x.nunique())\n",
    "#     missing_ratio = (df.isnull().sum()/ obs) * 100\n",
    "#     skewness = df.skew()\n",
    "#     kurtosis = df.kurt() \n",
    "#     print('Data shape:', df.shape)\n",
    "#     print(len(types))\n",
    "#     print(len(uniques))\n",
    "#     print(uniques)\n",
    "#     if pred is None:\n",
    "#         cols = ['types', 'counts', 'distincts', 'nulls', 'missing ratio', 'uniques', 'skewness', 'kurtosis']\n",
    "#         str_ = pd.DataFrame([types, counts, distincts, nulls, missing_ratio, uniques, skewness, kurtosis])\n",
    "\n",
    "#     else:\n",
    "#         corr = df.corr()[pred]\n",
    "#         str_ = pd.merge([types, counts, distincts, nulls, missing_ratio, uniques, skewness, kurtosis, corr], axis = 1, sort=True)\n",
    "#         corr_col = 'corr '  + pred\n",
    "#         cols = ['types', 'counts', 'distincts', 'nulls', 'missing ratio', 'uniques', 'skewness', 'kurtosis', corr_col ]\n",
    "    \n",
    "#     print(str_.shape)\n",
    "#     str_.columns = cols\n",
    "#     dtypes = str_.types.value_counts()\n",
    "#     print('___________________________\\nData types:\\n',str_.types.value_counts())\n",
    "#     print('___________________________')\n",
    "#     return str_\n",
    "\n",
    "# details = rstr(df)\n",
    "# display(details)"
   ]
  },
  {
   "cell_type": "code",
   "execution_count": 11,
   "metadata": {},
   "outputs": [
    {
     "name": "stdout",
     "output_type": "stream",
     "text": [
      "Data shape: (541909, 8)\n",
      "___________________________\n",
      "Data types:\n",
      " object            4\n",
      "float64           2\n",
      "int64             1\n",
      "datetime64[ns]    1\n",
      "Name: types, dtype: int64\n",
      "___________________________\n"
     ]
    },
    {
     "data": {
      "text/html": [
       "<div>\n",
       "<style scoped>\n",
       "    .dataframe tbody tr th:only-of-type {\n",
       "        vertical-align: middle;\n",
       "    }\n",
       "\n",
       "    .dataframe tbody tr th {\n",
       "        vertical-align: top;\n",
       "    }\n",
       "\n",
       "    .dataframe thead th {\n",
       "        text-align: right;\n",
       "    }\n",
       "</style>\n",
       "<table border=\"1\" class=\"dataframe\">\n",
       "  <thead>\n",
       "    <tr style=\"text-align: right;\">\n",
       "      <th></th>\n",
       "      <th>types</th>\n",
       "      <th>counts</th>\n",
       "      <th>distincts</th>\n",
       "      <th>nulls</th>\n",
       "      <th>missing ration</th>\n",
       "      <th>skewness</th>\n",
       "      <th>kurtosis</th>\n",
       "    </tr>\n",
       "  </thead>\n",
       "  <tbody>\n",
       "    <tr>\n",
       "      <th>CustomerID</th>\n",
       "      <td>float64</td>\n",
       "      <td>406829</td>\n",
       "      <td>4373</td>\n",
       "      <td>135080</td>\n",
       "      <td>24.926694</td>\n",
       "      <td>0.029835</td>\n",
       "      <td>-1.179982</td>\n",
       "    </tr>\n",
       "    <tr>\n",
       "      <th>Description</th>\n",
       "      <td>object</td>\n",
       "      <td>540455</td>\n",
       "      <td>4224</td>\n",
       "      <td>1454</td>\n",
       "      <td>0.268311</td>\n",
       "      <td>NaN</td>\n",
       "      <td>NaN</td>\n",
       "    </tr>\n",
       "    <tr>\n",
       "      <th>Country</th>\n",
       "      <td>object</td>\n",
       "      <td>541909</td>\n",
       "      <td>38</td>\n",
       "      <td>0</td>\n",
       "      <td>0.000000</td>\n",
       "      <td>NaN</td>\n",
       "      <td>NaN</td>\n",
       "    </tr>\n",
       "    <tr>\n",
       "      <th>InvoiceDate</th>\n",
       "      <td>datetime64[ns]</td>\n",
       "      <td>541909</td>\n",
       "      <td>23260</td>\n",
       "      <td>0</td>\n",
       "      <td>0.000000</td>\n",
       "      <td>NaN</td>\n",
       "      <td>NaN</td>\n",
       "    </tr>\n",
       "    <tr>\n",
       "      <th>InvoiceNo</th>\n",
       "      <td>object</td>\n",
       "      <td>541909</td>\n",
       "      <td>25900</td>\n",
       "      <td>0</td>\n",
       "      <td>0.000000</td>\n",
       "      <td>NaN</td>\n",
       "      <td>NaN</td>\n",
       "    </tr>\n",
       "    <tr>\n",
       "      <th>Quantity</th>\n",
       "      <td>int64</td>\n",
       "      <td>541909</td>\n",
       "      <td>722</td>\n",
       "      <td>0</td>\n",
       "      <td>0.000000</td>\n",
       "      <td>-0.264076</td>\n",
       "      <td>119769.160031</td>\n",
       "    </tr>\n",
       "    <tr>\n",
       "      <th>StockCode</th>\n",
       "      <td>object</td>\n",
       "      <td>541909</td>\n",
       "      <td>4070</td>\n",
       "      <td>0</td>\n",
       "      <td>0.000000</td>\n",
       "      <td>NaN</td>\n",
       "      <td>NaN</td>\n",
       "    </tr>\n",
       "    <tr>\n",
       "      <th>UnitPrice</th>\n",
       "      <td>float64</td>\n",
       "      <td>541909</td>\n",
       "      <td>1630</td>\n",
       "      <td>0</td>\n",
       "      <td>0.000000</td>\n",
       "      <td>186.506972</td>\n",
       "      <td>59005.719097</td>\n",
       "    </tr>\n",
       "  </tbody>\n",
       "</table>\n",
       "</div>"
      ],
      "text/plain": [
       "                      types  counts  distincts   nulls  missing ration  \\\n",
       "CustomerID          float64  406829       4373  135080       24.926694   \n",
       "Description          object  540455       4224    1454        0.268311   \n",
       "Country              object  541909         38       0        0.000000   \n",
       "InvoiceDate  datetime64[ns]  541909      23260       0        0.000000   \n",
       "InvoiceNo            object  541909      25900       0        0.000000   \n",
       "Quantity              int64  541909        722       0        0.000000   \n",
       "StockCode            object  541909       4070       0        0.000000   \n",
       "UnitPrice           float64  541909       1630       0        0.000000   \n",
       "\n",
       "               skewness       kurtosis  \n",
       "CustomerID     0.029835      -1.179982  \n",
       "Description         NaN            NaN  \n",
       "Country             NaN            NaN  \n",
       "InvoiceDate         NaN            NaN  \n",
       "InvoiceNo           NaN            NaN  \n",
       "Quantity      -0.264076  119769.160031  \n",
       "StockCode           NaN            NaN  \n",
       "UnitPrice    186.506972   59005.719097  "
      ]
     },
     "metadata": {},
     "output_type": "display_data"
    }
   ],
   "source": [
    "def rstr(df, pred=None): \n",
    "    obs = df.shape[0]\n",
    "    types = df.dtypes\n",
    "    counts = df.apply(lambda x: x.count())\n",
    "    uniques = df.apply(lambda x: [x.unique()])\n",
    "    nulls = df.apply(lambda x: x.isnull().sum())\n",
    "    distincts = df.apply(lambda x: x.unique().shape[0])\n",
    "    missing_ration = (df.isnull().sum()/ obs) * 100\n",
    "    skewness = df.skew()\n",
    "    kurtosis = df.kurt() \n",
    "    print('Data shape:', df.shape)\n",
    "#     print(len(missing_ration))\n",
    "#     print(len(uniques))\n",
    "#     print(uniques)\n",
    "    if pred is None:\n",
    "        cols = ['types', 'counts', 'distincts', 'nulls', 'missing ration',  'skewness', 'kurtosis']\n",
    "        str = pd.concat([types, counts, distincts, nulls, missing_ration, skewness, kurtosis], axis = 1, sort=True)\n",
    "\n",
    "    else:\n",
    "        corr = df.corr()[pred]\n",
    "        str = pd.concat([types, counts, distincts, nulls, missing_ration, uniques, skewness, kurtosis, corr], axis = 1, sort=True)\n",
    "        corr_col = 'corr '+ pred\n",
    "        cols = ['types', 'counts', 'distincts', 'nulls', 'missing ration', 'uniques', 'skewness', 'kurtosis', corr_col ]\n",
    "    \n",
    "    str.columns = cols\n",
    "    dtypes = str.types.value_counts()\n",
    "    print('___________________________\\nData types:\\n',str.types.value_counts())\n",
    "    print('___________________________')\n",
    "    return str\n",
    "\n",
    "details = rstr(df)\n",
    "display(details.sort_values(by='missing ration', ascending=False))\n"
   ]
  },
  {
   "cell_type": "code",
   "execution_count": 12,
   "metadata": {},
   "outputs": [
    {
     "data": {
      "text/html": [
       "<div>\n",
       "<style scoped>\n",
       "    .dataframe tbody tr th:only-of-type {\n",
       "        vertical-align: middle;\n",
       "    }\n",
       "\n",
       "    .dataframe tbody tr th {\n",
       "        vertical-align: top;\n",
       "    }\n",
       "\n",
       "    .dataframe thead th {\n",
       "        text-align: right;\n",
       "    }\n",
       "</style>\n",
       "<table border=\"1\" class=\"dataframe\">\n",
       "  <thead>\n",
       "    <tr style=\"text-align: right;\">\n",
       "      <th></th>\n",
       "      <th>Quantity</th>\n",
       "      <th>UnitPrice</th>\n",
       "      <th>CustomerID</th>\n",
       "    </tr>\n",
       "  </thead>\n",
       "  <tbody>\n",
       "    <tr>\n",
       "      <th>count</th>\n",
       "      <td>541909.000000</td>\n",
       "      <td>541909.000000</td>\n",
       "      <td>406829.000000</td>\n",
       "    </tr>\n",
       "    <tr>\n",
       "      <th>mean</th>\n",
       "      <td>9.552250</td>\n",
       "      <td>4.611114</td>\n",
       "      <td>15287.690570</td>\n",
       "    </tr>\n",
       "    <tr>\n",
       "      <th>std</th>\n",
       "      <td>218.081158</td>\n",
       "      <td>96.759853</td>\n",
       "      <td>1713.600303</td>\n",
       "    </tr>\n",
       "    <tr>\n",
       "      <th>min</th>\n",
       "      <td>-80995.000000</td>\n",
       "      <td>-11062.060000</td>\n",
       "      <td>12346.000000</td>\n",
       "    </tr>\n",
       "    <tr>\n",
       "      <th>25%</th>\n",
       "      <td>1.000000</td>\n",
       "      <td>1.250000</td>\n",
       "      <td>13953.000000</td>\n",
       "    </tr>\n",
       "    <tr>\n",
       "      <th>50%</th>\n",
       "      <td>3.000000</td>\n",
       "      <td>2.080000</td>\n",
       "      <td>15152.000000</td>\n",
       "    </tr>\n",
       "    <tr>\n",
       "      <th>75%</th>\n",
       "      <td>10.000000</td>\n",
       "      <td>4.130000</td>\n",
       "      <td>16791.000000</td>\n",
       "    </tr>\n",
       "    <tr>\n",
       "      <th>max</th>\n",
       "      <td>80995.000000</td>\n",
       "      <td>38970.000000</td>\n",
       "      <td>18287.000000</td>\n",
       "    </tr>\n",
       "  </tbody>\n",
       "</table>\n",
       "</div>"
      ],
      "text/plain": [
       "            Quantity      UnitPrice     CustomerID\n",
       "count  541909.000000  541909.000000  406829.000000\n",
       "mean        9.552250       4.611114   15287.690570\n",
       "std       218.081158      96.759853    1713.600303\n",
       "min    -80995.000000  -11062.060000   12346.000000\n",
       "25%         1.000000       1.250000   13953.000000\n",
       "50%         3.000000       2.080000   15152.000000\n",
       "75%        10.000000       4.130000   16791.000000\n",
       "max     80995.000000   38970.000000   18287.000000"
      ]
     },
     "execution_count": 12,
     "metadata": {},
     "output_type": "execute_result"
    }
   ],
   "source": [
    "df.describe()"
   ]
  },
  {
   "cell_type": "code",
   "execution_count": 13,
   "metadata": {},
   "outputs": [
    {
     "name": "stdout",
     "output_type": "stream",
     "text": [
      "Data shape: (397884, 8)\n",
      "___________________________\n",
      "Data types:\n",
      " object            4\n",
      "float64           2\n",
      "int64             1\n",
      "datetime64[ns]    1\n",
      "Name: types, dtype: int64\n",
      "___________________________\n"
     ]
    },
    {
     "data": {
      "text/html": [
       "<div>\n",
       "<style scoped>\n",
       "    .dataframe tbody tr th:only-of-type {\n",
       "        vertical-align: middle;\n",
       "    }\n",
       "\n",
       "    .dataframe tbody tr th {\n",
       "        vertical-align: top;\n",
       "    }\n",
       "\n",
       "    .dataframe thead th {\n",
       "        text-align: right;\n",
       "    }\n",
       "</style>\n",
       "<table border=\"1\" class=\"dataframe\">\n",
       "  <thead>\n",
       "    <tr style=\"text-align: right;\">\n",
       "      <th></th>\n",
       "      <th>types</th>\n",
       "      <th>counts</th>\n",
       "      <th>distincts</th>\n",
       "      <th>nulls</th>\n",
       "      <th>missing ration</th>\n",
       "      <th>skewness</th>\n",
       "      <th>kurtosis</th>\n",
       "    </tr>\n",
       "  </thead>\n",
       "  <tbody>\n",
       "    <tr>\n",
       "      <th>InvoiceNo</th>\n",
       "      <td>object</td>\n",
       "      <td>397884</td>\n",
       "      <td>18532</td>\n",
       "      <td>0</td>\n",
       "      <td>0.0</td>\n",
       "      <td>-0.178524</td>\n",
       "      <td>-1.200748</td>\n",
       "    </tr>\n",
       "    <tr>\n",
       "      <th>InvoiceDate</th>\n",
       "      <td>datetime64[ns]</td>\n",
       "      <td>397884</td>\n",
       "      <td>17282</td>\n",
       "      <td>0</td>\n",
       "      <td>0.0</td>\n",
       "      <td>NaN</td>\n",
       "      <td>NaN</td>\n",
       "    </tr>\n",
       "    <tr>\n",
       "      <th>CustomerID</th>\n",
       "      <td>float64</td>\n",
       "      <td>397884</td>\n",
       "      <td>4338</td>\n",
       "      <td>0</td>\n",
       "      <td>0.0</td>\n",
       "      <td>0.025729</td>\n",
       "      <td>-1.180822</td>\n",
       "    </tr>\n",
       "    <tr>\n",
       "      <th>Description</th>\n",
       "      <td>object</td>\n",
       "      <td>397884</td>\n",
       "      <td>3877</td>\n",
       "      <td>0</td>\n",
       "      <td>0.0</td>\n",
       "      <td>NaN</td>\n",
       "      <td>NaN</td>\n",
       "    </tr>\n",
       "    <tr>\n",
       "      <th>StockCode</th>\n",
       "      <td>object</td>\n",
       "      <td>397884</td>\n",
       "      <td>3665</td>\n",
       "      <td>0</td>\n",
       "      <td>0.0</td>\n",
       "      <td>NaN</td>\n",
       "      <td>NaN</td>\n",
       "    </tr>\n",
       "    <tr>\n",
       "      <th>UnitPrice</th>\n",
       "      <td>float64</td>\n",
       "      <td>397884</td>\n",
       "      <td>440</td>\n",
       "      <td>0</td>\n",
       "      <td>0.0</td>\n",
       "      <td>204.032727</td>\n",
       "      <td>58140.396673</td>\n",
       "    </tr>\n",
       "    <tr>\n",
       "      <th>Quantity</th>\n",
       "      <td>int64</td>\n",
       "      <td>397884</td>\n",
       "      <td>301</td>\n",
       "      <td>0</td>\n",
       "      <td>0.0</td>\n",
       "      <td>409.892972</td>\n",
       "      <td>178186.243253</td>\n",
       "    </tr>\n",
       "    <tr>\n",
       "      <th>Country</th>\n",
       "      <td>object</td>\n",
       "      <td>397884</td>\n",
       "      <td>37</td>\n",
       "      <td>0</td>\n",
       "      <td>0.0</td>\n",
       "      <td>NaN</td>\n",
       "      <td>NaN</td>\n",
       "    </tr>\n",
       "  </tbody>\n",
       "</table>\n",
       "</div>"
      ],
      "text/plain": [
       "                      types  counts  distincts  nulls  missing ration  \\\n",
       "InvoiceNo            object  397884      18532      0             0.0   \n",
       "InvoiceDate  datetime64[ns]  397884      17282      0             0.0   \n",
       "CustomerID          float64  397884       4338      0             0.0   \n",
       "Description          object  397884       3877      0             0.0   \n",
       "StockCode            object  397884       3665      0             0.0   \n",
       "UnitPrice           float64  397884        440      0             0.0   \n",
       "Quantity              int64  397884        301      0             0.0   \n",
       "Country              object  397884         37      0             0.0   \n",
       "\n",
       "               skewness       kurtosis  \n",
       "InvoiceNo     -0.178524      -1.200748  \n",
       "InvoiceDate         NaN            NaN  \n",
       "CustomerID     0.025729      -1.180822  \n",
       "Description         NaN            NaN  \n",
       "StockCode           NaN            NaN  \n",
       "UnitPrice    204.032727   58140.396673  \n",
       "Quantity     409.892972  178186.243253  \n",
       "Country             NaN            NaN  "
      ]
     },
     "metadata": {},
     "output_type": "display_data"
    }
   ],
   "source": [
    "df = df[~(df.CustomerID.isnull())]  #Remove the rows if the customer ID is null\n",
    "df = df[~(df.Quantity<0)]  #Remove the rows with negative Quantity\n",
    "df = df[df.UnitPrice>0]  #Consider only rows where unit price of the item is greater than 0.\n",
    "details = rstr(df)\n",
    "display(details.sort_values(by='distincts', ascending=False))"
   ]
  },
  {
   "cell_type": "markdown",
   "metadata": {},
   "source": [
    "Problems with the Dataset\n",
    "1. More number of unique descriptions than there are unique stock codes\n"
   ]
  },
  {
   "cell_type": "code",
   "execution_count": 7,
   "metadata": {},
   "outputs": [
    {
     "data": {
      "text/html": [
       "<div>\n",
       "<style scoped>\n",
       "    .dataframe tbody tr th:only-of-type {\n",
       "        vertical-align: middle;\n",
       "    }\n",
       "\n",
       "    .dataframe tbody tr th {\n",
       "        vertical-align: top;\n",
       "    }\n",
       "\n",
       "    .dataframe thead th {\n",
       "        text-align: right;\n",
       "    }\n",
       "</style>\n",
       "<table border=\"1\" class=\"dataframe\">\n",
       "  <thead>\n",
       "    <tr style=\"text-align: right;\">\n",
       "      <th></th>\n",
       "      <th>index</th>\n",
       "      <th>StockCode</th>\n",
       "    </tr>\n",
       "  </thead>\n",
       "  <tbody>\n",
       "    <tr>\n",
       "      <th>0</th>\n",
       "      <td>20713</td>\n",
       "      <td>8</td>\n",
       "    </tr>\n",
       "    <tr>\n",
       "      <th>1</th>\n",
       "      <td>23084</td>\n",
       "      <td>7</td>\n",
       "    </tr>\n",
       "    <tr>\n",
       "      <th>2</th>\n",
       "      <td>21830</td>\n",
       "      <td>6</td>\n",
       "    </tr>\n",
       "    <tr>\n",
       "      <th>3</th>\n",
       "      <td>85175</td>\n",
       "      <td>6</td>\n",
       "    </tr>\n",
       "    <tr>\n",
       "      <th>4</th>\n",
       "      <td>85172</td>\n",
       "      <td>5</td>\n",
       "    </tr>\n",
       "  </tbody>\n",
       "</table>\n",
       "</div>"
      ],
      "text/plain": [
       "   index  StockCode\n",
       "0  20713          8\n",
       "1  23084          7\n",
       "2  21830          6\n",
       "3  85175          6\n",
       "4  85172          5"
      ]
     },
     "metadata": {},
     "output_type": "display_data"
    },
    {
     "data": {
      "text/plain": [
       "array(['LUNCH BAG RED RETROSPOT', 'LUNCH BAG RED SPOTTY'], dtype=object)"
      ]
     },
     "execution_count": 7,
     "metadata": {},
     "output_type": "execute_result"
    }
   ],
   "source": [
    "cat_des_df = df.groupby([\"StockCode\",\"Description\"]).count().reset_index()\n",
    "display(cat_des_df.StockCode.value_counts()[cat_des_df.StockCode.value_counts()>1].reset_index().head())\n",
    "df[df['StockCode'] == df.StockCode.value_counts()[df.StockCode.value_counts()>1].reset_index()['index'][4]]['Description'].unique()"
   ]
  },
  {
   "cell_type": "code",
   "execution_count": 8,
   "metadata": {
    "scrolled": true
   },
   "outputs": [],
   "source": [
    "df.InvoiceDate = pd.to_datetime(df.InvoiceDate)\n",
    "df['amount'] = df.Quantity*df.UnitPrice\n",
    "df.CustomerID = df.CustomerID.astype('Int64')"
   ]
  },
  {
   "cell_type": "code",
   "execution_count": 9,
   "metadata": {},
   "outputs": [],
   "source": [
    "df.drop(df[df['Quantity']<0].index,inplace=True)"
   ]
  },
  {
   "cell_type": "code",
   "execution_count": 10,
   "metadata": {},
   "outputs": [
    {
     "data": {
      "text/plain": [
       "<seaborn.axisgrid.PairGrid at 0x7fc681e8a690>"
      ]
     },
     "execution_count": 10,
     "metadata": {},
     "output_type": "execute_result"
    },
    {
     "data": {
      "image/png": "[encoded data removed]",
      "text/plain": [
       "<Figure size 720x720 with 20 Axes>"
      ]
     },
     "metadata": {
      "needs_background": "light"
     },
     "output_type": "display_data"
    }
   ],
   "source": [
    "sns.pairplot(df)"
   ]
  },
  {
   "cell_type": "code",
   "execution_count": 11,
   "metadata": {},
   "outputs": [
    {
     "data": {
      "text/html": [
       "<div>\n",
       "<style scoped>\n",
       "    .dataframe tbody tr th:only-of-type {\n",
       "        vertical-align: middle;\n",
       "    }\n",
       "\n",
       "    .dataframe tbody tr th {\n",
       "        vertical-align: top;\n",
       "    }\n",
       "\n",
       "    .dataframe thead th {\n",
       "        text-align: right;\n",
       "    }\n",
       "</style>\n",
       "<table border=\"1\" class=\"dataframe\">\n",
       "  <thead>\n",
       "    <tr style=\"text-align: right;\">\n",
       "      <th></th>\n",
       "      <th>InvoiceNo</th>\n",
       "      <th>StockCode</th>\n",
       "      <th>Description</th>\n",
       "      <th>Quantity</th>\n",
       "      <th>InvoiceDate</th>\n",
       "      <th>UnitPrice</th>\n",
       "      <th>CustomerID</th>\n",
       "      <th>Country</th>\n",
       "      <th>amount</th>\n",
       "    </tr>\n",
       "  </thead>\n",
       "  <tbody>\n",
       "  </tbody>\n",
       "</table>\n",
       "</div>"
      ],
      "text/plain": [
       "Empty DataFrame\n",
       "Columns: [InvoiceNo, StockCode, Description, Quantity, InvoiceDate, UnitPrice, CustomerID, Country, amount]\n",
       "Index: []"
      ]
     },
     "execution_count": 11,
     "metadata": {},
     "output_type": "execute_result"
    }
   ],
   "source": [
    "df.drop(df[df['UnitPrice']<=0].index, inplace = True)\n",
    "df.drop(df[df['CustomerID']==\"Nan\"].index, inplace = True)\n",
    "df[df['Quantity']==0]"
   ]
  },
  {
   "cell_type": "markdown",
   "metadata": {},
   "source": [
    "# RFM Analysis"
   ]
  },
  {
   "cell_type": "code",
   "execution_count": 12,
   "metadata": {},
   "outputs": [
    {
     "name": "stdout",
     "output_type": "stream",
     "text": [
      "2021-04-08\n"
     ]
    }
   ],
   "source": [
    "from datetime import date\n",
    "today = date.today()\n",
    "print(today)"
   ]
  },
  {
   "cell_type": "code",
   "execution_count": 13,
   "metadata": {},
   "outputs": [],
   "source": [
    "df['Recency'] = list(map(lambda x: (today - x.date()).days,df['InvoiceDate']))\n"
   ]
  },
  {
   "cell_type": "code",
   "execution_count": 16,
   "metadata": {},
   "outputs": [],
   "source": [
    "# df.groupby([\"CustomerID\",\"InvoiceNo\"]).count()"
   ]
  },
  {
   "cell_type": "code",
   "execution_count": 14,
   "metadata": {},
   "outputs": [],
   "source": [
    "df_copy = df\n",
    "df_copy.drop_duplicates(subset=['InvoiceNo', 'CustomerID'], keep=\"first\", inplace=True)\n",
    "df_copy['Frequency']= df_copy.groupby(by=['CustomerID'], as_index = False)['InvoiceNo'].count()['InvoiceNo']\n",
    "# df_copy.head(20)\n"
   ]
  },
  {
   "cell_type": "code",
   "execution_count": 15,
   "metadata": {},
   "outputs": [
    {
     "name": "stdout",
     "output_type": "stream",
     "text": [
      "     CustomerID  frequency\n",
      "325       12747         11\n"
     ]
    },
    {
     "data": {
      "text/html": [
       "<div>\n",
       "<style scoped>\n",
       "    .dataframe tbody tr th:only-of-type {\n",
       "        vertical-align: middle;\n",
       "    }\n",
       "\n",
       "    .dataframe tbody tr th {\n",
       "        vertical-align: top;\n",
       "    }\n",
       "\n",
       "    .dataframe thead th {\n",
       "        text-align: right;\n",
       "    }\n",
       "</style>\n",
       "<table border=\"1\" class=\"dataframe\">\n",
       "  <thead>\n",
       "    <tr style=\"text-align: right;\">\n",
       "      <th></th>\n",
       "      <th>InvoiceNo</th>\n",
       "      <th>StockCode</th>\n",
       "      <th>Description</th>\n",
       "      <th>Quantity</th>\n",
       "      <th>InvoiceDate</th>\n",
       "      <th>UnitPrice</th>\n",
       "      <th>CustomerID</th>\n",
       "      <th>Country</th>\n",
       "      <th>amount</th>\n",
       "      <th>Recency</th>\n",
       "      <th>Frequency</th>\n",
       "    </tr>\n",
       "  </thead>\n",
       "  <tbody>\n",
       "    <tr>\n",
       "      <th>14938</th>\n",
       "      <td>537626</td>\n",
       "      <td>85116</td>\n",
       "      <td>BLACK CANDELABRA T-LIGHT HOLDER</td>\n",
       "      <td>12</td>\n",
       "      <td>2010-12-07 14:57:00</td>\n",
       "      <td>2.10</td>\n",
       "      <td>12347</td>\n",
       "      <td>Iceland</td>\n",
       "      <td>25.20</td>\n",
       "      <td>3775</td>\n",
       "      <td>NaN</td>\n",
       "    </tr>\n",
       "    <tr>\n",
       "      <th>72246</th>\n",
       "      <td>542237</td>\n",
       "      <td>84625A</td>\n",
       "      <td>PINK NEW BAROQUECANDLESTICK CANDLE</td>\n",
       "      <td>24</td>\n",
       "      <td>2011-01-26 14:30:00</td>\n",
       "      <td>0.85</td>\n",
       "      <td>12347</td>\n",
       "      <td>Iceland</td>\n",
       "      <td>20.40</td>\n",
       "      <td>3725</td>\n",
       "      <td>NaN</td>\n",
       "    </tr>\n",
       "    <tr>\n",
       "      <th>148285</th>\n",
       "      <td>549222</td>\n",
       "      <td>22376</td>\n",
       "      <td>AIRLINE BAG VINTAGE JET SET WHITE</td>\n",
       "      <td>4</td>\n",
       "      <td>2011-04-07 10:43:00</td>\n",
       "      <td>4.25</td>\n",
       "      <td>12347</td>\n",
       "      <td>Iceland</td>\n",
       "      <td>17.00</td>\n",
       "      <td>3654</td>\n",
       "      <td>NaN</td>\n",
       "    </tr>\n",
       "    <tr>\n",
       "      <th>220572</th>\n",
       "      <td>556201</td>\n",
       "      <td>23084</td>\n",
       "      <td>RABBIT NIGHT LIGHT</td>\n",
       "      <td>12</td>\n",
       "      <td>2011-06-09 13:01:00</td>\n",
       "      <td>2.08</td>\n",
       "      <td>12347</td>\n",
       "      <td>Iceland</td>\n",
       "      <td>24.96</td>\n",
       "      <td>3591</td>\n",
       "      <td>NaN</td>\n",
       "    </tr>\n",
       "    <tr>\n",
       "      <th>286621</th>\n",
       "      <td>562032</td>\n",
       "      <td>23308</td>\n",
       "      <td>SET OF 60 VINTAGE LEAF CAKE CASES</td>\n",
       "      <td>24</td>\n",
       "      <td>2011-08-02 08:48:00</td>\n",
       "      <td>0.55</td>\n",
       "      <td>12347</td>\n",
       "      <td>Iceland</td>\n",
       "      <td>13.20</td>\n",
       "      <td>3537</td>\n",
       "      <td>NaN</td>\n",
       "    </tr>\n",
       "    <tr>\n",
       "      <th>428957</th>\n",
       "      <td>573511</td>\n",
       "      <td>23480</td>\n",
       "      <td>MINI LIGHTS WOODLAND MUSHROOMS</td>\n",
       "      <td>12</td>\n",
       "      <td>2011-10-31 12:25:00</td>\n",
       "      <td>3.75</td>\n",
       "      <td>12347</td>\n",
       "      <td>Iceland</td>\n",
       "      <td>45.00</td>\n",
       "      <td>3447</td>\n",
       "      <td>NaN</td>\n",
       "    </tr>\n",
       "    <tr>\n",
       "      <th>535004</th>\n",
       "      <td>581180</td>\n",
       "      <td>23497</td>\n",
       "      <td>CLASSIC CHROME BICYCLE BELL</td>\n",
       "      <td>12</td>\n",
       "      <td>2011-12-07 15:52:00</td>\n",
       "      <td>1.45</td>\n",
       "      <td>12347</td>\n",
       "      <td>Iceland</td>\n",
       "      <td>17.40</td>\n",
       "      <td>3410</td>\n",
       "      <td>NaN</td>\n",
       "    </tr>\n",
       "  </tbody>\n",
       "</table>\n",
       "</div>"
      ],
      "text/plain": [
       "       InvoiceNo StockCode                         Description  Quantity  \\\n",
       "14938     537626     85116     BLACK CANDELABRA T-LIGHT HOLDER        12   \n",
       "72246     542237    84625A  PINK NEW BAROQUECANDLESTICK CANDLE        24   \n",
       "148285    549222     22376   AIRLINE BAG VINTAGE JET SET WHITE         4   \n",
       "220572    556201     23084                  RABBIT NIGHT LIGHT        12   \n",
       "286621    562032     23308  SET OF 60 VINTAGE LEAF CAKE CASES         24   \n",
       "428957    573511     23480      MINI LIGHTS WOODLAND MUSHROOMS        12   \n",
       "535004    581180     23497        CLASSIC CHROME BICYCLE BELL         12   \n",
       "\n",
       "               InvoiceDate  UnitPrice  CustomerID  Country  amount  Recency  \\\n",
       "14938  2010-12-07 14:57:00       2.10       12347  Iceland   25.20     3775   \n",
       "72246  2011-01-26 14:30:00       0.85       12347  Iceland   20.40     3725   \n",
       "148285 2011-04-07 10:43:00       4.25       12347  Iceland   17.00     3654   \n",
       "220572 2011-06-09 13:01:00       2.08       12347  Iceland   24.96     3591   \n",
       "286621 2011-08-02 08:48:00       0.55       12347  Iceland   13.20     3537   \n",
       "428957 2011-10-31 12:25:00       3.75       12347  Iceland   45.00     3447   \n",
       "535004 2011-12-07 15:52:00       1.45       12347  Iceland   17.40     3410   \n",
       "\n",
       "        Frequency  \n",
       "14938         NaN  \n",
       "72246         NaN  \n",
       "148285        NaN  \n",
       "220572        NaN  \n",
       "286621        NaN  \n",
       "428957        NaN  \n",
       "535004        NaN  "
      ]
     },
     "execution_count": 15,
     "metadata": {},
     "output_type": "execute_result"
    }
   ],
   "source": [
    "cs_df = df\n",
    "customer_freq = (cs_df[['CustomerID', 'InvoiceNo']].groupby([\"CustomerID\", 'InvoiceNo']).count().reset_index()).\\\n",
    "                groupby([\"CustomerID\"]).count().reset_index()\n",
    "customer_freq.rename(columns={'InvoiceNo':'frequency'},inplace=True)\n",
    "print(customer_freq[customer_freq['CustomerID']==12747])\n",
    "\n",
    "df[df['CustomerID']==12347]\n",
    "# customer_history_df = customer_history_df.merge(customer_freq)"
   ]
  },
  {
   "cell_type": "code",
   "execution_count": 16,
   "metadata": {},
   "outputs": [],
   "source": [
    "cs_df.drop(cs_df[cs_df['CustomerID'].isnull()].index, axis = 0, inplace = True)"
   ]
  },
  {
   "cell_type": "code",
   "execution_count": 17,
   "metadata": {},
   "outputs": [
    {
     "data": {
      "text/html": [
       "<div>\n",
       "<style scoped>\n",
       "    .dataframe tbody tr th:only-of-type {\n",
       "        vertical-align: middle;\n",
       "    }\n",
       "\n",
       "    .dataframe tbody tr th {\n",
       "        vertical-align: top;\n",
       "    }\n",
       "\n",
       "    .dataframe thead th {\n",
       "        text-align: right;\n",
       "    }\n",
       "</style>\n",
       "<table border=\"1\" class=\"dataframe\">\n",
       "  <thead>\n",
       "    <tr style=\"text-align: right;\">\n",
       "      <th></th>\n",
       "      <th>CustomerID</th>\n",
       "      <th>Recency</th>\n",
       "      <th>frequency</th>\n",
       "      <th>amount</th>\n",
       "    </tr>\n",
       "  </thead>\n",
       "  <tbody>\n",
       "    <tr>\n",
       "      <th>0</th>\n",
       "      <td>17850</td>\n",
       "      <td>3781</td>\n",
       "      <td>34</td>\n",
       "      <td>503.28</td>\n",
       "    </tr>\n",
       "    <tr>\n",
       "      <th>1</th>\n",
       "      <td>13047</td>\n",
       "      <td>3781</td>\n",
       "      <td>10</td>\n",
       "      <td>203.53</td>\n",
       "    </tr>\n",
       "    <tr>\n",
       "      <th>2</th>\n",
       "      <td>12583</td>\n",
       "      <td>3781</td>\n",
       "      <td>15</td>\n",
       "      <td>617.80</td>\n",
       "    </tr>\n",
       "    <tr>\n",
       "      <th>3</th>\n",
       "      <td>13748</td>\n",
       "      <td>3781</td>\n",
       "      <td>5</td>\n",
       "      <td>255.41</td>\n",
       "    </tr>\n",
       "    <tr>\n",
       "      <th>4</th>\n",
       "      <td>15100</td>\n",
       "      <td>3781</td>\n",
       "      <td>3</td>\n",
       "      <td>876.00</td>\n",
       "    </tr>\n",
       "    <tr>\n",
       "      <th>5</th>\n",
       "      <td>15291</td>\n",
       "      <td>3781</td>\n",
       "      <td>15</td>\n",
       "      <td>1082.09</td>\n",
       "    </tr>\n",
       "    <tr>\n",
       "      <th>6</th>\n",
       "      <td>14688</td>\n",
       "      <td>3781</td>\n",
       "      <td>21</td>\n",
       "      <td>798.73</td>\n",
       "    </tr>\n",
       "    <tr>\n",
       "      <th>7</th>\n",
       "      <td>17809</td>\n",
       "      <td>3781</td>\n",
       "      <td>12</td>\n",
       "      <td>1988.24</td>\n",
       "    </tr>\n",
       "    <tr>\n",
       "      <th>8</th>\n",
       "      <td>15311</td>\n",
       "      <td>3781</td>\n",
       "      <td>91</td>\n",
       "      <td>4709.93</td>\n",
       "    </tr>\n",
       "    <tr>\n",
       "      <th>9</th>\n",
       "      <td>16098</td>\n",
       "      <td>3781</td>\n",
       "      <td>7</td>\n",
       "      <td>344.55</td>\n",
       "    </tr>\n",
       "    <tr>\n",
       "      <th>10</th>\n",
       "      <td>18074</td>\n",
       "      <td>3781</td>\n",
       "      <td>1</td>\n",
       "      <td>19.35</td>\n",
       "    </tr>\n",
       "    <tr>\n",
       "      <th>11</th>\n",
       "      <td>17420</td>\n",
       "      <td>3781</td>\n",
       "      <td>3</td>\n",
       "      <td>60.65</td>\n",
       "    </tr>\n",
       "    <tr>\n",
       "      <th>12</th>\n",
       "      <td>16029</td>\n",
       "      <td>3781</td>\n",
       "      <td>63</td>\n",
       "      <td>24384.92</td>\n",
       "    </tr>\n",
       "    <tr>\n",
       "      <th>13</th>\n",
       "      <td>16250</td>\n",
       "      <td>3781</td>\n",
       "      <td>2</td>\n",
       "      <td>26.35</td>\n",
       "    </tr>\n",
       "    <tr>\n",
       "      <th>14</th>\n",
       "      <td>12431</td>\n",
       "      <td>3781</td>\n",
       "      <td>15</td>\n",
       "      <td>1119.28</td>\n",
       "    </tr>\n",
       "    <tr>\n",
       "      <th>15</th>\n",
       "      <td>17511</td>\n",
       "      <td>3781</td>\n",
       "      <td>31</td>\n",
       "      <td>3573.33</td>\n",
       "    </tr>\n",
       "    <tr>\n",
       "      <th>16</th>\n",
       "      <td>13705</td>\n",
       "      <td>3781</td>\n",
       "      <td>3</td>\n",
       "      <td>51.60</td>\n",
       "    </tr>\n",
       "    <tr>\n",
       "      <th>17</th>\n",
       "      <td>13747</td>\n",
       "      <td>3781</td>\n",
       "      <td>1</td>\n",
       "      <td>79.60</td>\n",
       "    </tr>\n",
       "    <tr>\n",
       "      <th>18</th>\n",
       "      <td>13408</td>\n",
       "      <td>3781</td>\n",
       "      <td>62</td>\n",
       "      <td>4682.30</td>\n",
       "    </tr>\n",
       "    <tr>\n",
       "      <th>19</th>\n",
       "      <td>13767</td>\n",
       "      <td>3781</td>\n",
       "      <td>37</td>\n",
       "      <td>1769.42</td>\n",
       "    </tr>\n",
       "  </tbody>\n",
       "</table>\n",
       "</div>"
      ],
      "text/plain": [
       "    CustomerID  Recency  frequency    amount\n",
       "0        17850     3781         34    503.28\n",
       "1        13047     3781         10    203.53\n",
       "2        12583     3781         15    617.80\n",
       "3        13748     3781          5    255.41\n",
       "4        15100     3781          3    876.00\n",
       "5        15291     3781         15   1082.09\n",
       "6        14688     3781         21    798.73\n",
       "7        17809     3781         12   1988.24\n",
       "8        15311     3781         91   4709.93\n",
       "9        16098     3781          7    344.55\n",
       "10       18074     3781          1     19.35\n",
       "11       17420     3781          3     60.65\n",
       "12       16029     3781         63  24384.92\n",
       "13       16250     3781          2     26.35\n",
       "14       12431     3781         15   1119.28\n",
       "15       17511     3781         31   3573.33\n",
       "16       13705     3781          3     51.60\n",
       "17       13747     3781          1     79.60\n",
       "18       13408     3781         62   4682.30\n",
       "19       13767     3781         37   1769.42"
      ]
     },
     "execution_count": 17,
     "metadata": {},
     "output_type": "execute_result"
    }
   ],
   "source": [
    "monetary_value = cs_df.groupby(by = \"CustomerID\",as_index = False).agg({'amount': 'sum'})\n",
    "rfm = pd.merge(customer_freq, monetary_value, on='CustomerID')\n",
    "rfm = pd.merge(cs_df[['CustomerID','Recency']],rfm, on = 'CustomerID')\n",
    "rfm.drop_duplicates(subset=['CustomerID'], keep=\"first\", inplace=True)\n",
    "rfm.reset_index(drop = True, inplace = True)\n",
    "rfm.head(20)"
   ]
  },
  {
   "cell_type": "code",
   "execution_count": 18,
   "metadata": {},
   "outputs": [
    {
     "data": {
      "text/html": [
       "<div>\n",
       "<style scoped>\n",
       "    .dataframe tbody tr th:only-of-type {\n",
       "        vertical-align: middle;\n",
       "    }\n",
       "\n",
       "    .dataframe tbody tr th {\n",
       "        vertical-align: top;\n",
       "    }\n",
       "\n",
       "    .dataframe thead th {\n",
       "        text-align: right;\n",
       "    }\n",
       "</style>\n",
       "<table border=\"1\" class=\"dataframe\">\n",
       "  <thead>\n",
       "    <tr style=\"text-align: right;\">\n",
       "      <th></th>\n",
       "      <th>CustomerID</th>\n",
       "      <th>Recency</th>\n",
       "      <th>frequency</th>\n",
       "      <th>amount</th>\n",
       "    </tr>\n",
       "  </thead>\n",
       "  <tbody>\n",
       "    <tr>\n",
       "      <th>0.25</th>\n",
       "      <td>13813.25</td>\n",
       "      <td>3520.0</td>\n",
       "      <td>1.0</td>\n",
       "      <td>17.7000</td>\n",
       "    </tr>\n",
       "    <tr>\n",
       "      <th>0.50</th>\n",
       "      <td>15299.5</td>\n",
       "      <td>3656.0</td>\n",
       "      <td>2.0</td>\n",
       "      <td>47.0500</td>\n",
       "    </tr>\n",
       "    <tr>\n",
       "      <th>0.75</th>\n",
       "      <td>16778.75</td>\n",
       "      <td>3734.0</td>\n",
       "      <td>5.0</td>\n",
       "      <td>130.1025</td>\n",
       "    </tr>\n",
       "  </tbody>\n",
       "</table>\n",
       "</div>"
      ],
      "text/plain": [
       "     CustomerID  Recency  frequency    amount\n",
       "0.25   13813.25   3520.0        1.0   17.7000\n",
       "0.50    15299.5   3656.0        2.0   47.0500\n",
       "0.75   16778.75   3734.0        5.0  130.1025"
      ]
     },
     "execution_count": 18,
     "metadata": {},
     "output_type": "execute_result"
    }
   ],
   "source": [
    "quantiles = rfm.quantile(q=[0.25,0.5,0.75])\n",
    "quantiles\n"
   ]
  },
  {
   "cell_type": "code",
   "execution_count": 19,
   "metadata": {},
   "outputs": [],
   "source": [
    "import pickle\n",
    "pickle_out = open(\"/home/srishti/PycharmProjects/Ecom for MP/rfm_scores.pickle\",'wb')\n",
    "pickle.dump(quantiles, pickle_out)\n",
    "pickle_out.close()"
   ]
  },
  {
   "cell_type": "code",
   "execution_count": 20,
   "metadata": {},
   "outputs": [
    {
     "data": {
      "text/html": [
       "<div>\n",
       "<style scoped>\n",
       "    .dataframe tbody tr th:only-of-type {\n",
       "        vertical-align: middle;\n",
       "    }\n",
       "\n",
       "    .dataframe tbody tr th {\n",
       "        vertical-align: top;\n",
       "    }\n",
       "\n",
       "    .dataframe thead th {\n",
       "        text-align: right;\n",
       "    }\n",
       "</style>\n",
       "<table border=\"1\" class=\"dataframe\">\n",
       "  <thead>\n",
       "    <tr style=\"text-align: right;\">\n",
       "      <th></th>\n",
       "      <th>CustomerID</th>\n",
       "      <th>Recency</th>\n",
       "      <th>frequency</th>\n",
       "      <th>amount</th>\n",
       "      <th>R_Score</th>\n",
       "      <th>F_Score</th>\n",
       "      <th>M_Score</th>\n",
       "    </tr>\n",
       "  </thead>\n",
       "  <tbody>\n",
       "    <tr>\n",
       "      <th>0</th>\n",
       "      <td>17850</td>\n",
       "      <td>3781</td>\n",
       "      <td>34</td>\n",
       "      <td>503.28</td>\n",
       "      <td>1</td>\n",
       "      <td>4</td>\n",
       "      <td>4</td>\n",
       "    </tr>\n",
       "    <tr>\n",
       "      <th>1</th>\n",
       "      <td>13047</td>\n",
       "      <td>3781</td>\n",
       "      <td>10</td>\n",
       "      <td>203.53</td>\n",
       "      <td>1</td>\n",
       "      <td>4</td>\n",
       "      <td>4</td>\n",
       "    </tr>\n",
       "    <tr>\n",
       "      <th>2</th>\n",
       "      <td>12583</td>\n",
       "      <td>3781</td>\n",
       "      <td>15</td>\n",
       "      <td>617.80</td>\n",
       "      <td>1</td>\n",
       "      <td>4</td>\n",
       "      <td>4</td>\n",
       "    </tr>\n",
       "    <tr>\n",
       "      <th>3</th>\n",
       "      <td>13748</td>\n",
       "      <td>3781</td>\n",
       "      <td>5</td>\n",
       "      <td>255.41</td>\n",
       "      <td>1</td>\n",
       "      <td>3</td>\n",
       "      <td>4</td>\n",
       "    </tr>\n",
       "    <tr>\n",
       "      <th>4</th>\n",
       "      <td>15100</td>\n",
       "      <td>3781</td>\n",
       "      <td>3</td>\n",
       "      <td>876.00</td>\n",
       "      <td>1</td>\n",
       "      <td>3</td>\n",
       "      <td>4</td>\n",
       "    </tr>\n",
       "  </tbody>\n",
       "</table>\n",
       "</div>"
      ],
      "text/plain": [
       "   CustomerID  Recency  frequency  amount  R_Score  F_Score  M_Score\n",
       "0       17850     3781         34  503.28        1        4        4\n",
       "1       13047     3781         10  203.53        1        4        4\n",
       "2       12583     3781         15  617.80        1        4        4\n",
       "3       13748     3781          5  255.41        1        3        4\n",
       "4       15100     3781          3  876.00        1        3        4"
      ]
     },
     "execution_count": 20,
     "metadata": {},
     "output_type": "execute_result"
    }
   ],
   "source": [
    "def RScore(x):\n",
    "    if x <= quantiles['Recency'][0.25]:\n",
    "        return 4\n",
    "    elif x <= quantiles['Recency'][0.5]:\n",
    "        return 3\n",
    "    elif x <= quantiles['Recency'][0.75]: \n",
    "        return 2\n",
    "#     elif x <= quantiles['Recency'][0.8]: \n",
    "#         return 1\n",
    "    else:\n",
    "        return 1\n",
    "# Arguments (x = value, p = recency, monetary_value, frequency, k = quartiles dict)\n",
    "def FMScore(x,col):\n",
    "    if x <= quantiles[col][0.25]:\n",
    "        return 1\n",
    "    elif x <= quantiles[col][0.5]:\n",
    "        return 2\n",
    "    elif x <= quantiles[col][0.75]: \n",
    "        return 3\n",
    "#     elif x<= quantiles[col][0.8]:\n",
    "#         return 4\n",
    "    else:\n",
    "        return 4\n",
    "rfm['R_Score'] = list(map(RScore,rfm['Recency']))\n",
    "rfm['F_Score'] = list(map(FMScore,rfm['frequency'],repeat('frequency')))\n",
    "rfm['M_Score'] = list(map(FMScore,rfm['amount'],repeat('amount')))\n",
    "rfm.head()"
   ]
  },
  {
   "cell_type": "code",
   "execution_count": 21,
   "metadata": {},
   "outputs": [],
   "source": [
    "# def RScore(x):\n",
    "#     if x <= quantiles['Recency'][0.2]:\n",
    "#         return 5\n",
    "#     elif x <= quantiles['Recency'][0.4]:\n",
    "#         return 4\n",
    "#     elif x <= quantiles['Recency'][0.6]: \n",
    "#         return 3\n",
    "#     elif x <= quantiles['Recency'][0.8]: \n",
    "#         return 2\n",
    "#     else:\n",
    "#         return 1\n",
    "# # Arguments (x = value, p = recency, monetary_value, frequency, k = quartiles dict)\n",
    "# def FMScore(x,col):\n",
    "#     if x <= quantiles[col][0.2]:\n",
    "#         return 1\n",
    "#     elif x <= quantiles[col][0.4]:\n",
    "#         return 2\n",
    "#     elif x <= quantiles[col][0.6]: \n",
    "#         return 3\n",
    "#     elif x<= quantiles[col][0.8]:\n",
    "#         return 4\n",
    "#     else:\n",
    "#         return 5\n",
    "# rfm['R_Score'] = list(map(RScore,rfm['Recency']))\n",
    "# rfm['F_Score'] = list(map(FMScore,rfm['frequency'],repeat('frequency')))\n",
    "# rfm['M_Score'] = list(map(FMScore,rfm['amount'],repeat('amount')))\n",
    "# rfm.head()"
   ]
  },
  {
   "cell_type": "code",
   "execution_count": 22,
   "metadata": {},
   "outputs": [
    {
     "data": {
      "text/html": [
       "<div>\n",
       "<style scoped>\n",
       "    .dataframe tbody tr th:only-of-type {\n",
       "        vertical-align: middle;\n",
       "    }\n",
       "\n",
       "    .dataframe tbody tr th {\n",
       "        vertical-align: top;\n",
       "    }\n",
       "\n",
       "    .dataframe thead th {\n",
       "        text-align: right;\n",
       "    }\n",
       "</style>\n",
       "<table border=\"1\" class=\"dataframe\">\n",
       "  <thead>\n",
       "    <tr style=\"text-align: right;\">\n",
       "      <th></th>\n",
       "      <th>R_Score</th>\n",
       "      <th>F_Score</th>\n",
       "      <th>M_Score</th>\n",
       "    </tr>\n",
       "  </thead>\n",
       "  <tbody>\n",
       "    <tr>\n",
       "      <th>0</th>\n",
       "      <td>1</td>\n",
       "      <td>4</td>\n",
       "      <td>4</td>\n",
       "    </tr>\n",
       "    <tr>\n",
       "      <th>1</th>\n",
       "      <td>1</td>\n",
       "      <td>4</td>\n",
       "      <td>4</td>\n",
       "    </tr>\n",
       "    <tr>\n",
       "      <th>2</th>\n",
       "      <td>1</td>\n",
       "      <td>4</td>\n",
       "      <td>4</td>\n",
       "    </tr>\n",
       "    <tr>\n",
       "      <th>3</th>\n",
       "      <td>1</td>\n",
       "      <td>3</td>\n",
       "      <td>4</td>\n",
       "    </tr>\n",
       "    <tr>\n",
       "      <th>4</th>\n",
       "      <td>1</td>\n",
       "      <td>3</td>\n",
       "      <td>4</td>\n",
       "    </tr>\n",
       "    <tr>\n",
       "      <th>...</th>\n",
       "      <td>...</td>\n",
       "      <td>...</td>\n",
       "      <td>...</td>\n",
       "    </tr>\n",
       "    <tr>\n",
       "      <th>4333</th>\n",
       "      <td>4</td>\n",
       "      <td>1</td>\n",
       "      <td>1</td>\n",
       "    </tr>\n",
       "    <tr>\n",
       "      <th>4334</th>\n",
       "      <td>4</td>\n",
       "      <td>1</td>\n",
       "      <td>1</td>\n",
       "    </tr>\n",
       "    <tr>\n",
       "      <th>4335</th>\n",
       "      <td>4</td>\n",
       "      <td>1</td>\n",
       "      <td>3</td>\n",
       "    </tr>\n",
       "    <tr>\n",
       "      <th>4336</th>\n",
       "      <td>4</td>\n",
       "      <td>1</td>\n",
       "      <td>1</td>\n",
       "    </tr>\n",
       "    <tr>\n",
       "      <th>4337</th>\n",
       "      <td>4</td>\n",
       "      <td>1</td>\n",
       "      <td>3</td>\n",
       "    </tr>\n",
       "  </tbody>\n",
       "</table>\n",
       "<p>4338 rows × 3 columns</p>\n",
       "</div>"
      ],
      "text/plain": [
       "      R_Score  F_Score  M_Score\n",
       "0           1        4        4\n",
       "1           1        4        4\n",
       "2           1        4        4\n",
       "3           1        3        4\n",
       "4           1        3        4\n",
       "...       ...      ...      ...\n",
       "4333        4        1        1\n",
       "4334        4        1        1\n",
       "4335        4        1        3\n",
       "4336        4        1        1\n",
       "4337        4        1        3\n",
       "\n",
       "[4338 rows x 3 columns]"
      ]
     },
     "execution_count": 22,
     "metadata": {},
     "output_type": "execute_result"
    }
   ],
   "source": [
    "rfm_scores = rfm.iloc[:,4:]\n",
    "rfm_scores"
   ]
  },
  {
   "cell_type": "code",
   "execution_count": 23,
   "metadata": {},
   "outputs": [
    {
     "data": {
      "image/png": "[encoded data removed]",
      "text/plain": [
       "<Figure size 432x288 with 1 Axes>"
      ]
     },
     "metadata": {
      "needs_background": "light"
     },
     "output_type": "display_data"
    }
   ],
   "source": [
    "sumofsquares = []\n",
    "for i in range(1,11):\n",
    "    km = KMeans(n_clusters = i, random_state = 1231).fit(rfm_scores)\n",
    "    sumofsquares.append(km.inertia_)\n",
    "plt.plot(range(1,11),sumofsquares,marker = 'o')\n",
    "plt.show()"
   ]
  },
  {
   "cell_type": "code",
   "execution_count": 24,
   "metadata": {},
   "outputs": [
    {
     "name": "stdout",
     "output_type": "stream",
     "text": [
      "[[1.61279461 1.74747475 1.79124579]\n",
      " [1.40420372 3.60145513 3.59013743]\n",
      " [3.60159652 1.28301887 1.52104499]\n",
      " [3.26081731 2.74639423 3.24519231]]\n"
     ]
    },
    {
     "data": {
      "text/plain": [
       "Text(0.5, 0, 'Monetary')"
      ]
     },
     "execution_count": 24,
     "metadata": {},
     "output_type": "execute_result"
    },
    {
     "data": {
      "image/png": "[encoded data removed]",
      "text/plain": [
       "<Figure size 576x432 with 1 Axes>"
      ]
     },
     "metadata": {
      "needs_background": "light"
     },
     "output_type": "display_data"
    }
   ],
   "source": [
    "#optimal k=4\n",
    "from mpl_toolkits.mplot3d import Axes3D\n",
    "model = KMeans(n_clusters = 4, random_state = 1231).fit(rfm_scores)\n",
    "centers = model.cluster_centers_\n",
    "print(centers)\n",
    "fig = plt.figure(figsize = (8,6))\n",
    "ax = fig.add_subplot(111, projection = '3d')\n",
    "ax.scatter(rfm_scores.iloc[:,0],rfm_scores.iloc[:,1],rfm_scores.iloc[:,2],cmap = \"brg\",\n",
    "          c = model.predict(rfm_scores.iloc[:,0:]))\n",
    "ax.scatter(centers[:,0],centers[:,1],c = 'black')\n",
    "ax.set_xlabel('Recency')\n",
    "ax.set_ylabel('Frequency')\n",
    "ax.set_zlabel('Monetary')"
   ]
  },
  {
   "cell_type": "code",
   "execution_count": 25,
   "metadata": {},
   "outputs": [
    {
     "name": "stdout",
     "output_type": "stream",
     "text": [
      "      R_Score  F_Score  M_Score\n",
      "10          1        1        2\n",
      "13          1        2        2\n",
      "17          1        1        3\n",
      "22          1        3        2\n",
      "24          1        1        4\n",
      "...       ...      ...      ...\n",
      "2161        2        3        2\n",
      "2162        2        1        1\n",
      "2163        2        1        1\n",
      "2164        2        3        1\n",
      "2165        2        1        2\n",
      "\n",
      "[891 rows x 3 columns]\n",
      "1237\n",
      "1378\n",
      "832\n"
     ]
    }
   ],
   "source": [
    "#Recency: \n",
    "\n",
    "x = model.predict(rfm_scores.iloc[:,0:])\n",
    "print((rfm_scores[x==0]))\n",
    "print(len(rfm_scores[x==1]))\n",
    "print(len(rfm_scores[x==2]))\n",
    "print(len(rfm_scores[x==3]))"
   ]
  },
  {
   "cell_type": "code",
   "execution_count": 29,
   "metadata": {},
   "outputs": [
    {
     "data": {
      "text/plain": [
       "<matplotlib.legend.Legend at 0x7fc681dda0d0>"
      ]
     },
     "execution_count": 29,
     "metadata": {},
     "output_type": "execute_result"
    },
    {
     "data": {
      "image/png": "[encoded data removed]",
      "text/plain": [
       "<Figure size 720x576 with 1 Axes>"
      ]
     },
     "metadata": {
      "needs_background": "light"
     },
     "output_type": "display_data"
    }
   ],
   "source": [
    "fig = plt.figure(figsize = (10,8))\n",
    "ax = fig.add_subplot(111, projection = '3d')\n",
    "# ax.xaxis.pane.fill = False\n",
    "# ax.yaxis.pane.fill = False\n",
    "# ax.zaxis.pane.fill = False\n",
    "\n",
    "# Now set color to white (or whatever is \"invisible\")\n",
    "# ax.xaxis.pane.set_edgecolor('black')\n",
    "# ax.yaxis.pane.set_edgecolor('black')\n",
    "# ax.zaxis.pane.set_edgecolor('black')\n",
    "# ax.grid(False)\n",
    "# ax.w_xaxis.set_pane_color('')\n",
    "# ax.set(facecolor = 'black')\n",
    "a1 = ax.scatter(rfm_scores.iloc[:,0][x==0],rfm_scores.iloc[:,1][x==0],rfm_scores.iloc[:,2][x==0],color = \"purple\")\n",
    "a2 = ax.scatter(rfm_scores.iloc[:,0][x==1],rfm_scores.iloc[:,1][x==1],rfm_scores.iloc[:,2][x==1],color = \"green\")\n",
    "a3 = ax.scatter(rfm_scores.iloc[:,0][x==2],rfm_scores.iloc[:,1][x==2],rfm_scores.iloc[:,2][x==2],color = \"red\")\n",
    "a4 = ax.scatter(rfm_scores.iloc[:,0][x==3],rfm_scores.iloc[:,1][x==3],rfm_scores.iloc[:,2][x==3],color = \"blue\")\n",
    "ax.set_xlabel('Recency')\n",
    "ax.set_ylabel('Frequency')\n",
    "ax.set_zlabel('Monetary')\n",
    "ax.legend([a1,a2,a3,a4],['Lost','Losing','New','Loyal'], loc = 'best',bbox_to_anchor=(0, 0.6), prop={'size':17})\n",
    "# ax.scatter(centers[:,0],centers[:,1],centers[:,2],c = 'black')\n",
    "#CLuster 0: Recency: Low, Frequency: Low to high,Monetary: Low to med ----Lost \n",
    "#CLuster 1: Recency: Low, Frequency: Med to high,Monetary: Med to high ----Losing\n",
    "#CLuster 2: Recency: Med to high, Frequency: Low to med,Monetary: Low -----New\n",
    "#CLuster 3: Recency: Med to high, Frequency: high,Monetary: Low to high  -----Loyal\n"
   ]
  },
  {
   "cell_type": "code",
   "execution_count": 30,
   "metadata": {},
   "outputs": [],
   "source": [
    "with open('/home/srishti/PycharmProjects/Ecom for MP/clusters_3d.pickle', 'wb') as f: # should be 'wb' rather than 'w'\n",
    "    pickle.dump(fig, f) "
   ]
  },
  {
   "cell_type": "code",
   "execution_count": 35,
   "metadata": {},
   "outputs": [
    {
     "data": {
      "text/plain": [
       "<matplotlib.collections.PathCollection at 0x7f98d2f7ac50>"
      ]
     },
     "execution_count": 35,
     "metadata": {},
     "output_type": "execute_result"
    },
    {
     "data": {
      "image/png": "[encoded data removed]",
      "text/plain": [
       "<Figure size 576x396 with 1 Axes>"
      ]
     },
     "metadata": {},
     "output_type": "display_data"
    }
   ],
   "source": [
    "plt.scatter(rfm_scores.iloc[:,0],rfm_scores.iloc[:,1],cmap = 'magma', c = model.predict(rfm_scores.iloc[:,0:]))\n",
    "plt.scatter(rfm_scores.iloc[:,0],rfm_scores.iloc[:,2],cmap = \"viridis\", c = model.predict(rfm_scores.iloc[:,0:]))\n",
    "plt.scatter(rfm_scores.iloc[:,0],rfm_scores.iloc[:,1],cmap = 'brg', c = model.predict(rfm_scores.iloc[:,0:]))\n"
   ]
  },
  {
   "cell_type": "code",
   "execution_count": 79,
   "metadata": {},
   "outputs": [
    {
     "data": {
      "text/plain": [
       "<matplotlib.collections.PathCollection at 0x7fa0732e72d0>"
      ]
     },
     "execution_count": 79,
     "metadata": {},
     "output_type": "execute_result"
    },
    {
     "data": {
      "image/png": "[encoded data removed]",
      "text/plain": [
       "<Figure size 576x396 with 1 Axes>"
      ]
     },
     "metadata": {},
     "output_type": "display_data"
    }
   ],
   "source": [
    "plt.scatter(rfm_scores.iloc[:,0],rfm_scores.iloc[:,1],cmap = 'brg', c = model.predict(rfm_scores.iloc[:,0:]))\n"
   ]
  },
  {
   "cell_type": "code",
   "execution_count": null,
   "metadata": {},
   "outputs": [],
   "source": []
  },
  {
   "cell_type": "code",
   "execution_count": 33,
   "metadata": {},
   "outputs": [
    {
     "data": {
      "image/png": "[encoded data removed]",
      "text/plain": [
       "<Figure size 576x396 with 1 Axes>"
      ]
     },
     "metadata": {},
     "output_type": "display_data"
    }
   ],
   "source": [
    "from yellowbrick.cluster import silhouette_visualizer\n",
    "x = silhouette_visualizer(KMeans(n_clusters = 4, random_state = 1231),rfm_scores, colors = 'yellowbrick')"
   ]
  },
  {
   "cell_type": "code",
   "execution_count": 31,
   "metadata": {},
   "outputs": [],
   "source": [
    "with open('/home/srishti/PycharmProjects/Ecom for MP/silhoutte.pickle', 'wb') as f: # should be 'wb' rather than 'w'\n",
    "    pickle.dump(x, f) "
   ]
  },
  {
   "cell_type": "code",
   "execution_count": null,
   "metadata": {},
   "outputs": [],
   "source": []
  },
  {
   "cell_type": "code",
   "execution_count": 72,
   "metadata": {},
   "outputs": [],
   "source": [
    "#CLuster 0: Recency: Low, Frequency: Low to high,Monetary: Low to high\n",
    "#CLuster 1: Recency: Low, Frequency: Low to high,Monetary: Low to high\n",
    "#CLuster 2: Recency: Low, Frequency: Low to high,Monetary: Low to high\n",
    "#CLuster 3: Recency: Low, Frequency: Low to high,Monetary: Low to high\n"
   ]
  },
  {
   "cell_type": "markdown",
   "metadata": {},
   "source": [
    "<!-- Cluster 0: High Recency, Low Monetary Value - New Customers\n",
    "Cluster 1: Low to medium Recency, Low to medium Monetary Value, Low to medium frequency - On the verge of losing\n",
    "Cluster 2: High Recency, High Frequency, High Monetary Value - Star Customers\n",
    "Cluster 3: Low Recency, High Frequency, Low to High Monetary Value - Lost\n",
    " -->\n",
    "CLUSTER 0: Low recency, freq: med to high, monetary: med to high\n",
    "CLUSTER 1: Low to med recency, low to med freq, low to med monetary\n",
    "CLUSTER 2: Med to high recency, low to high freq, low to med monetary\n",
    "CLUSTER 3: Med to high recency, high freq, med to high monetary\n",
    "\n",
    "Strategy\n",
    "=\n",
    "1. Reward new customers \n",
    "2. Show premium products to Star Customers\n",
    "3. Show offers and best deals to Cluster1\n",
    "4. Don't market about Lost Customers."
   ]
  },
  {
   "cell_type": "code",
   "execution_count": 74,
   "metadata": {},
   "outputs": [],
   "source": [
    "# CLUSTER 0: Low to med recency, freq: med to high, monetary: med to high"
   ]
  },
  {
   "cell_type": "code",
   "execution_count": 32,
   "metadata": {},
   "outputs": [
    {
     "ename": "KeyboardInterrupt",
     "evalue": "Interrupted by user",
     "output_type": "error",
     "traceback": [
      "\u001b[0;31m---------------------------------------------------------------------------\u001b[0m",
      "\u001b[0;31mKeyboardInterrupt\u001b[0m                         Traceback (most recent call last)",
      "\u001b[0;32m<ipython-input-32-34ecc1d4c0cf>\u001b[0m in \u001b[0;36m<module>\u001b[0;34m\u001b[0m\n\u001b[1;32m      1\u001b[0m \u001b[0mpd\u001b[0m\u001b[0;34m.\u001b[0m\u001b[0mto_pickle\u001b[0m\u001b[0;34m(\u001b[0m\u001b[0mmodel\u001b[0m\u001b[0;34m,\u001b[0m\u001b[0;34m'/home/srishti/PycharmProjects/Ecom for MP/new_model.pickle'\u001b[0m\u001b[0;34m)\u001b[0m\u001b[0;34m\u001b[0m\u001b[0;34m\u001b[0m\u001b[0m\n\u001b[1;32m      2\u001b[0m \u001b[0mmodel\u001b[0m \u001b[0;34m=\u001b[0m \u001b[0mpd\u001b[0m\u001b[0;34m.\u001b[0m\u001b[0mread_pickle\u001b[0m\u001b[0;34m(\u001b[0m\u001b[0;34mr'/home/srishti/PycharmProjects/Ecom for MP/new_model.pickle'\u001b[0m\u001b[0;34m)\u001b[0m\u001b[0;34m\u001b[0m\u001b[0;34m\u001b[0m\u001b[0m\n\u001b[0;32m----> 3\u001b[0;31m \u001b[0mr\u001b[0m \u001b[0;34m=\u001b[0m \u001b[0mfloat\u001b[0m\u001b[0;34m(\u001b[0m\u001b[0minput\u001b[0m\u001b[0;34m(\u001b[0m\u001b[0;34m\"Enter Recency \"\u001b[0m\u001b[0;34m)\u001b[0m\u001b[0;34m)\u001b[0m\u001b[0;34m\u001b[0m\u001b[0;34m\u001b[0m\u001b[0m\n\u001b[0m\u001b[1;32m      4\u001b[0m \u001b[0mf\u001b[0m \u001b[0;34m=\u001b[0m \u001b[0mfloat\u001b[0m\u001b[0;34m(\u001b[0m\u001b[0minput\u001b[0m\u001b[0;34m(\u001b[0m\u001b[0;34m\"Enter Frequency \"\u001b[0m\u001b[0;34m)\u001b[0m\u001b[0;34m)\u001b[0m\u001b[0;34m\u001b[0m\u001b[0;34m\u001b[0m\u001b[0m\n\u001b[1;32m      5\u001b[0m \u001b[0mm\u001b[0m \u001b[0;34m=\u001b[0m \u001b[0mfloat\u001b[0m\u001b[0;34m(\u001b[0m\u001b[0minput\u001b[0m\u001b[0;34m(\u001b[0m\u001b[0;34m\"Enter Monetart \"\u001b[0m\u001b[0;34m)\u001b[0m\u001b[0;34m)\u001b[0m\u001b[0;34m\u001b[0m\u001b[0;34m\u001b[0m\u001b[0m\n",
      "\u001b[0;32m~/anaconda3/lib/python3.7/site-packages/ipykernel/kernelbase.py\u001b[0m in \u001b[0;36mraw_input\u001b[0;34m(self, prompt)\u001b[0m\n\u001b[1;32m    861\u001b[0m             \u001b[0mself\u001b[0m\u001b[0;34m.\u001b[0m\u001b[0m_parent_ident\u001b[0m\u001b[0;34m,\u001b[0m\u001b[0;34m\u001b[0m\u001b[0;34m\u001b[0m\u001b[0m\n\u001b[1;32m    862\u001b[0m             \u001b[0mself\u001b[0m\u001b[0;34m.\u001b[0m\u001b[0m_parent_header\u001b[0m\u001b[0;34m,\u001b[0m\u001b[0;34m\u001b[0m\u001b[0;34m\u001b[0m\u001b[0m\n\u001b[0;32m--> 863\u001b[0;31m             \u001b[0mpassword\u001b[0m\u001b[0;34m=\u001b[0m\u001b[0;32mFalse\u001b[0m\u001b[0;34m,\u001b[0m\u001b[0;34m\u001b[0m\u001b[0;34m\u001b[0m\u001b[0m\n\u001b[0m\u001b[1;32m    864\u001b[0m         )\n\u001b[1;32m    865\u001b[0m \u001b[0;34m\u001b[0m\u001b[0m\n",
      "\u001b[0;32m~/anaconda3/lib/python3.7/site-packages/ipykernel/kernelbase.py\u001b[0m in \u001b[0;36m_input_request\u001b[0;34m(self, prompt, ident, parent, password)\u001b[0m\n\u001b[1;32m    902\u001b[0m             \u001b[0;32mexcept\u001b[0m \u001b[0mKeyboardInterrupt\u001b[0m\u001b[0;34m:\u001b[0m\u001b[0;34m\u001b[0m\u001b[0;34m\u001b[0m\u001b[0m\n\u001b[1;32m    903\u001b[0m                 \u001b[0;31m# re-raise KeyboardInterrupt, to truncate traceback\u001b[0m\u001b[0;34m\u001b[0m\u001b[0;34m\u001b[0m\u001b[0;34m\u001b[0m\u001b[0m\n\u001b[0;32m--> 904\u001b[0;31m                 \u001b[0;32mraise\u001b[0m \u001b[0mKeyboardInterrupt\u001b[0m\u001b[0;34m(\u001b[0m\u001b[0;34m\"Interrupted by user\"\u001b[0m\u001b[0;34m)\u001b[0m \u001b[0;32mfrom\u001b[0m \u001b[0;32mNone\u001b[0m\u001b[0;34m\u001b[0m\u001b[0;34m\u001b[0m\u001b[0m\n\u001b[0m\u001b[1;32m    905\u001b[0m             \u001b[0;32mexcept\u001b[0m \u001b[0mException\u001b[0m \u001b[0;32mas\u001b[0m \u001b[0me\u001b[0m\u001b[0;34m:\u001b[0m\u001b[0;34m\u001b[0m\u001b[0;34m\u001b[0m\u001b[0m\n\u001b[1;32m    906\u001b[0m                 \u001b[0mself\u001b[0m\u001b[0;34m.\u001b[0m\u001b[0mlog\u001b[0m\u001b[0;34m.\u001b[0m\u001b[0mwarning\u001b[0m\u001b[0;34m(\u001b[0m\u001b[0;34m\"Invalid Message:\"\u001b[0m\u001b[0;34m,\u001b[0m \u001b[0mexc_info\u001b[0m\u001b[0;34m=\u001b[0m\u001b[0;32mTrue\u001b[0m\u001b[0;34m)\u001b[0m\u001b[0;34m\u001b[0m\u001b[0;34m\u001b[0m\u001b[0m\n",
      "\u001b[0;31mKeyboardInterrupt\u001b[0m: Interrupted by user"
     ]
    }
   ],
   "source": [
    "pd.to_pickle(model,'/home/srishti/PycharmProjects/Ecom for MP/new_model.pickle')\n",
    "model = pd.read_pickle(r'/home/srishti/PycharmProjects/Ecom for MP/new_model.pickle') \n",
    "r = float(input(\"Enter Recency \"))\n",
    "f = float(input(\"Enter Frequency \"))\n",
    "m = float(input(\"Enter Monetart \"))\n",
    "\n",
    "result = model.predict([[r,f,m]])  # input must be 2D array\n",
    "print(result)"
   ]
  },
  {
   "cell_type": "code",
   "execution_count": null,
   "metadata": {},
   "outputs": [],
   "source": [
    "##For Website, we can't make the customer actually pay using paypal, so create a coupon code,\n",
    "##which when applied, the customer gets the order for free.\n",
    "##Create Shipped Orders Model for the orders that are actually checked out(using that coupon code).\n",
    "##Right now, we assume the cart orders to have been checked out and try to apply RFM on those Customers.\n",
    "##Also, create a login and signup page."
   ]
  },
  {
   "cell_type": "code",
   "execution_count": null,
   "metadata": {},
   "outputs": [],
   "source": []
  }
 ],
 "metadata": {
  "kernelspec": {
   "display_name": "Python 3",
   "language": "python",
   "name": "python3"
  },
  "language_info": {
   "codemirror_mode": {
    "name": "ipython",
    "version": 3
   },
   "file_extension": ".py",
   "mimetype": "text/x-python",
   "name": "python",
   "nbconvert_exporter": "python",
   "pygments_lexer": "ipython3",
   "version": "3.7.6"
  }
 },
 "nbformat": 4,
 "nbformat_minor": 4
}
